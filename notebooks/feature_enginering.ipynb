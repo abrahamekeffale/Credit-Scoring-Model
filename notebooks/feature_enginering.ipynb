{
 "cells": [
  {
   "cell_type": "code",
   "execution_count": 4,
   "metadata": {},
   "outputs": [],
   "source": [
    "# Import necessary libraries\n",
    "import pandas as pd\n",
    "from sklearn.preprocessing import StandardScaler\n",
    "from sklearn.preprocessing import OneHotEncoder\n",
    "import os\n",
    "import sys\n",
    "import numpy as np\n",
    "import seaborn as sns\n",
    "import matplotlib.pyplot as plt"
   ]
  },
  {
   "cell_type": "code",
   "execution_count": 5,
   "metadata": {},
   "outputs": [],
   "source": [
    "# Get the absolute path of the scripts directory\n",
    "scripts_path = os.path.abspath(os.path.join(os.getcwd(), '..', 'scripts'))\n",
    "sys.path.append(scripts_path)"
   ]
  },
  {
   "cell_type": "code",
   "execution_count": 6,
   "metadata": {},
   "outputs": [],
   "source": [
    "from feature_enginering import create_aggregate_features,extract_datetime_features,encode_categorical,handle_missing_values,scale_features"
   ]
  },
  {
   "cell_type": "code",
   "execution_count": 7,
   "metadata": {},
   "outputs": [],
   "source": [
    "# Load data\n",
    "filepath = r\"C:\\Users\\HP\\week 6\\Credit-Scoring-Model\\data\\data.csv\"\n",
    "df = pd.read_csv(filepath)\n"
   ]
  },
  {
   "cell_type": "code",
   "execution_count": 5,
   "metadata": {},
   "outputs": [
    {
     "data": {
      "text/plain": [
       "Index(['TransactionId', 'BatchId', 'AccountId', 'SubscriptionId', 'CustomerId',\n",
       "       'CurrencyCode', 'CountryCode', 'ProviderId', 'ProductId',\n",
       "       'ProductCategory', 'ChannelId', 'Amount', 'Value',\n",
       "       'TransactionStartTime', 'PricingStrategy', 'FraudResult'],\n",
       "      dtype='object')"
      ]
     },
     "execution_count": 5,
     "metadata": {},
     "output_type": "execute_result"
    }
   ],
   "source": [
    "df.columns"
   ]
  },
  {
   "cell_type": "code",
   "execution_count": 6,
   "metadata": {},
   "outputs": [],
   "source": [
    "# Convert 'TransactionDate' to datetime\n",
    "df['TransactionStartTime'] = pd.to_datetime(df['TransactionStartTime'])"
   ]
  },
  {
   "cell_type": "code",
   "execution_count": 7,
   "metadata": {},
   "outputs": [],
   "source": [
    "# Apply aggregate features\n",
    "df = create_aggregate_features(df)"
   ]
  },
  {
   "cell_type": "code",
   "execution_count": 8,
   "metadata": {},
   "outputs": [],
   "source": [
    "# Apply datetime feature extraction\n",
    "df = extract_datetime_features(df)"
   ]
  },
  {
   "cell_type": "code",
   "execution_count": null,
   "metadata": {},
   "outputs": [],
   "source": [
    "# Apply One-Hot Encoding on categorical features\n",
    "df_encoded = encode_categorical(df)"
   ]
  },
  {
   "cell_type": "code",
   "execution_count": 9,
   "metadata": {},
   "outputs": [],
   "source": [
    "# Handle missing values in the dataset\n",
    "df = handle_missing_values(df)"
   ]
  },
  {
   "cell_type": "code",
   "execution_count": null,
   "metadata": {},
   "outputs": [],
   "source": [
    "df=scale_features(df)"
   ]
  },
  {
   "cell_type": "code",
   "execution_count": 20,
   "metadata": {},
   "outputs": [],
   "source": [
    "# Assuming df is your DataFrame\n",
    "# Define risk factors and assign scores\n",
    "def calculate_rfsm_score(row):\n",
    "    score = 0\n",
    "    \n",
    "    # Example of scoring based on Total_Transaction_Amount\n",
    "    if row['Total_Transaction_Amount'] > 5000:\n",
    "        score += 3  # High risk for large transactions\n",
    "    elif 1000 < row['Total_Transaction_Amount'] <= 5000:\n",
    "        score += 2  # Medium risk\n",
    "    else:\n",
    "        score += 1  # Low risk for small transactions\n",
    "    \n",
    "    # Example of scoring based on Transaction_Count\n",
    "    if row['Transaction_Count'] > 50:\n",
    "        score += 3\n",
    "    elif 20 < row['Transaction_Count'] <= 50:\n",
    "        score += 2\n",
    "    else:\n",
    "        score += 1\n",
    "    \n",
    "    # Scoring based on ProductCategory_financial_services\n",
    "    if row['ProductCategory_financial_services'] == 1:\n",
    "        score += 3\n",
    "    \n",
    "    # Additional example scoring for another product category\n",
    "    if row['ProductCategory_transport'] == 1:\n",
    "        score += 2  # Medium risk for transport-related services\n",
    "\n",
    "    return score"
   ]
  },
  {
   "cell_type": "code",
   "execution_count": 21,
   "metadata": {},
   "outputs": [],
   "source": [
    "# Apply the RFSM scoring function to the dataset\n",
    "df['RFSM_Score'] = df.apply(calculate_rfsm_score, axis=1)"
   ]
  },
  {
   "cell_type": "code",
   "execution_count": 22,
   "metadata": {},
   "outputs": [],
   "source": [
    "# Calculate quantiles for the RFSM score\n",
    "low_risk_threshold = df['RFSM_Score'].quantile(0.33)  # 33rd percentile\n",
    "medium_risk_threshold = df['RFSM_Score'].quantile(0.66)  # 66th percentile"
   ]
  },
  {
   "cell_type": "code",
   "execution_count": 23,
   "metadata": {},
   "outputs": [],
   "source": [
    "# Define credit score categories based on quantiles\n",
    "def classify_credit_score_global(score, low_thresh, medium_thresh):\n",
    "    if score > medium_thresh:\n",
    "        return 'High Risk'\n",
    "    elif score > low_thresh:\n",
    "        return 'Medium Risk'\n",
    "    else:\n",
    "        return 'Low Risk'"
   ]
  },
  {
   "cell_type": "code",
   "execution_count": 24,
   "metadata": {},
   "outputs": [],
   "source": [
    "# Classify users based on their RFSM scores and global criterion\n",
    "df['Credit_Score_Category'] = df['RFSM_Score'].apply(\n",
    "    lambda x: classify_credit_score_global(x, low_risk_threshold, medium_risk_threshold)\n",
    ")"
   ]
  },
  {
   "cell_type": "code",
   "execution_count": null,
   "metadata": {},
   "outputs": [],
   "source": [
    "# Show a few rows to verify\n",
    "print(df[['RFSM_Score', 'Credit_Score_Category']].head())"
   ]
  },
  {
   "cell_type": "code",
   "execution_count": null,
   "metadata": {},
   "outputs": [],
   "source": [
    "# Visualize the distribution of risk categories using a count plot\n",
    "sns.countplot(data=df, x='Credit_Score_Category')\n",
    "plt.title('Distribution of Credit Score Categories (Global Criterion)')\n",
    "plt.xlabel('Credit Score Category')\n",
    "plt.ylabel('Count')\n",
    "plt.show()"
   ]
  },
  {
   "cell_type": "code",
   "execution_count": 41,
   "metadata": {},
   "outputs": [],
   "source": [
    "# Save processed data\n",
    "#df.to_csv(\"C:\\\\Users\\\\HP\\\\week 6\\\\Credit-Scoring-Model\\\\data\\\\processed_data1.csv\", index=False)"
   ]
  },
  {
   "cell_type": "code",
   "execution_count": null,
   "metadata": {},
   "outputs": [],
   "source": [
    "# Display the first few rows of the processed dataset\n",
    "#df.head()"
   ]
  }
 ],
 "metadata": {
  "kernelspec": {
   "display_name": ".myenv",
   "language": "python",
   "name": "python3"
  },
  "language_info": {
   "codemirror_mode": {
    "name": "ipython",
    "version": 3
   },
   "file_extension": ".py",
   "mimetype": "text/x-python",
   "name": "python",
   "nbconvert_exporter": "python",
   "pygments_lexer": "ipython3",
   "version": "3.12.3"
  }
 },
 "nbformat": 4,
 "nbformat_minor": 2
}
